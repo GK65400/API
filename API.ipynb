{
 "cells": [
  {
   "cell_type": "code",
   "execution_count": 23,
   "id": "067409f9-c7e5-4933-aadd-cd82ed2af775",
   "metadata": {},
   "outputs": [
    {
     "name": "stdout",
     "output_type": "stream",
     "text": [
      "Overwriting app.py\n"
     ]
    }
   ],
   "source": [
    "%%file app.py\n",
    "from flask import Flask, request, jsonify\n",
    "\n",
    "app = Flask(__name__)\n",
    "\n",
    "@app.route('/')\n",
    "def home():\n",
    "    return 'Witaj w moim API!'\n",
    "\n",
    "@app.route('/mojastrona')\n",
    "def mojastrona():\n",
    "    return 'To jest moja strona!'\n",
    "\n",
    "@app.route('/hello')\n",
    "def hello():\n",
    "    name = request.args.get('name')\n",
    "    if name:\n",
    "        return f'Hello {name}!'\n",
    "    return 'Hello!'\n",
    "\n",
    "@app.route('/api/v1.0/predict')\n",
    "def predict():\n",
    "    try:\n",
    "        num1 = float(request.args.get('num1', 0))\n",
    "        num2 = float(request.args.get('num2', 0))\n",
    "    except (TypeError, ValueError):\n",
    "        return jsonify({\"error\": \"Invalid input\"}), 400\n",
    "\n",
    "    suma = num1 + num2\n",
    "    prediction = 1 if suma > 5.8 else 0\n",
    "    return jsonify({\n",
    "        \"prediction\": prediction,\n",
    "        \"features\": {\n",
    "            \"num1\": num1,\n",
    "            \"num2\": num2\n",
    "        }\n",
    "    })\n",
    "\n",
    "@app.route('/math')\n",
    "def math_operation():\n",
    "    try:\n",
    "        num1 = float(request.args.get('num1', 0))\n",
    "        num2 = float(request.args.get('num2', 0))\n",
    "        operation = request.args.get('operation', 'add')\n",
    "    except (TypeError, ValueError):\n",
    "        return jsonify({\"error\": \"Invalid input\"}), 400\n",
    "\n",
    "    result = None\n",
    "    if operation == 'add':\n",
    "        result = num1 + num2\n",
    "    elif operation == 'sub':\n",
    "        result = num1 - num2\n",
    "    elif operation == 'mul':\n",
    "        result = num1 * num2\n",
    "    elif operation == 'div':\n",
    "        result = num1 / num2 if num2 != 0 else \"undefined\"\n",
    "    else:\n",
    "        return jsonify({\"error\": \"Unknown operation\"}), 400\n",
    "\n",
    "    return jsonify({\n",
    "        \"operation\": operation,\n",
    "        \"result\": result,\n",
    "        \"inputs\": {\"num1\": num1, \"num2\": num2}\n",
    "    })\n",
    "\n",
    "# Statystyki dla podanych liczb\n",
    "@app.route('/stats')\n",
    "def stats():\n",
    "    numbers = request.args.get('numbers')\n",
    "    if not numbers:\n",
    "        return jsonify({\"error\": \"No numbers provided\"}), 400\n",
    "\n",
    "    try:\n",
    "        numbers = [float(num) for num in numbers.split(',')]\n",
    "    except ValueError:\n",
    "        return jsonify({\"error\": \"Invalid numbers format\"}), 400\n",
    "\n",
    "    stats = {\n",
    "        \"min\": min(numbers),\n",
    "        \"max\": max(numbers),\n",
    "        \"avg\": sum(numbers) / len(numbers),\n",
    "        \"count\": len(numbers)\n",
    "    }\n",
    "\n",
    "    return jsonify(stats)\n",
    "\n",
    "if __name__ == '__main__':\n",
    "    print(\"Dostępne endpointy:\")\n",
    "    with app.test_request_context():\n",
    "        for rule in app.url_map.iter_rules():\n",
    "            print(f'{rule.endpoint}: {rule}')\n",
    "    app.run(debug=True, port=5000)\n",
    "\n"
   ]
  },
  {
   "cell_type": "code",
   "execution_count": 20,
   "id": "16993741-46b9-42e2-a94e-7b6b80d0e575",
   "metadata": {},
   "outputs": [
    {
     "name": "stdout",
     "output_type": "stream",
     "text": [
      "✅ Witaj w moim API!\n"
     ]
    }
   ],
   "source": [
    "import requests\n",
    "\n",
    "# Strona główna\n",
    "res = requests.get(\"http://127.0.0.1:5000/\")\n",
    "if res.status_code == 200:\n",
    "    print(\"✅\", res.text)\n",
    "else:\n",
    "    print(\"❌ Błąd:\", res.status_code)\n"
   ]
  },
  {
   "cell_type": "code",
   "execution_count": 16,
   "id": "ed199de1-6240-4711-a087-fd452480e669",
   "metadata": {},
   "outputs": [
    {
     "name": "stdout",
     "output_type": "stream",
     "text": [
      "{'features': {'num1': 5.0, 'num2': 4.0}, 'prediction': 1}\n",
      "200\n",
      "{\n",
      "  \"features\": {\n",
      "    \"num1\": 1.0,\n",
      "    \"num2\": 4.0\n",
      "  },\n",
      "  \"prediction\": 0\n",
      "}\n",
      "\n"
     ]
    }
   ],
   "source": [
    "#Sprawdzanie ML\n",
    "res1 = requests.get(\"http://127.0.0.1:5000/api/v1.0/predict?num1=5&num2=4\")\n",
    "print(res1.json())\n",
    "\n",
    "res2 = requests.get(\"http://127.0.0.1:5000/api/v1.0/predict?num1=1&num2=4\")\n",
    "print(res2.status_code) \n",
    "print(res2.text) "
   ]
  },
  {
   "cell_type": "code",
   "execution_count": 17,
   "id": "71f79bfd-f066-4671-9858-59755873a486",
   "metadata": {},
   "outputs": [
    {
     "name": "stdout",
     "output_type": "stream",
     "text": [
      "b'Hello!'\n",
      "b'Hello Sebastian!'\n"
     ]
    }
   ],
   "source": [
    "#Hello\n",
    "res3 = requests.get(\"http://127.0.0.1:5000/hello\")\n",
    "print(res3.content)\n",
    "\n",
    "res4 = requests.get(\"http://127.0.0.1:5000/hello?name=Sebastian\")\n",
    "print(res4.content)  "
   ]
  },
  {
   "cell_type": "code",
   "execution_count": 19,
   "id": "834951d7-49e5-4d13-b860-e8e47200502e",
   "metadata": {},
   "outputs": [
    {
     "name": "stdout",
     "output_type": "stream",
     "text": [
      "To jest moja strona!\n"
     ]
    }
   ],
   "source": [
    "#Moja strona\n",
    "res5 = requests.get(\"http://127.0.0.1:5000/mojastrona\")\n",
    "print(res5.text)\n"
   ]
  },
  {
   "cell_type": "code",
   "execution_count": 22,
   "id": "7c3ad87f-6c96-4cd5-9304-248c063a70c2",
   "metadata": {},
   "outputs": [
    {
     "name": "stdout",
     "output_type": "stream",
     "text": [
      "{'avg': 25.0, 'count': 4, 'max': 40.0, 'min': 10.0}\n"
     ]
    }
   ],
   "source": [
    "#Statystyki\n",
    "res6 = requests.get(\"http://127.0.0.1:5000/stats?numbers=10,20,30,40\")\n",
    "print(res6.json())"
   ]
  },
  {
   "cell_type": "code",
   "execution_count": 24,
   "id": "2f21682c-1006-4c71-8cc8-6e884bd45135",
   "metadata": {},
   "outputs": [
    {
     "name": "stdout",
     "output_type": "stream",
     "text": [
      "Dostępne endpointy:\n",
      "static: /static/<path:filename>\n",
      "home: /\n",
      "mojastrona: /mojastrona\n",
      "hello: /hello\n",
      "predict: /api/v1.0/predict\n",
      "math_operation: /math\n",
      "stats: /stats\n",
      " * Serving Flask app 'app'\n",
      " * Debug mode: on\n",
      "Serwer został uruchomiony.\n"
     ]
    },
    {
     "name": "stderr",
     "output_type": "stream",
     "text": [
      "Address already in use\n",
      "Port 5000 is in use by another program. Either identify and stop that program, or start the server with a different port.\n"
     ]
    }
   ],
   "source": [
    "import subprocess\n",
    "import time\n",
    "\n",
    "# Uruchomienie serwera Flask\n",
    "server = subprocess.Popen([\"python\", \"app.py\"])\n",
    "\n",
    "# Sprawdzenie uruchomienia serwera\n",
    "time.sleep(3)\n",
    "print(\"Serwer został uruchomiony.\")\n"
   ]
  },
  {
   "cell_type": "code",
   "execution_count": 25,
   "id": "53010d95-5fa6-4ae1-8621-7ca70d74b232",
   "metadata": {},
   "outputs": [
    {
     "name": "stdout",
     "output_type": "stream",
     "text": [
      "Witaj w moim API!\n"
     ]
    }
   ],
   "source": [
    "test = requests.get(\"http://127.0.0.1:5000/\")\n",
    "print(test.text)\n"
   ]
  },
  {
   "cell_type": "code",
   "execution_count": 26,
   "id": "8fc1ebb5-5570-415d-b8bf-2c2ed2be4a38",
   "metadata": {},
   "outputs": [
    {
     "name": "stdout",
     "output_type": "stream",
     "text": [
      "Serwer został zatrzymany.\n"
     ]
    }
   ],
   "source": [
    "# Zatrzymanie serwera\n",
    "server.kill()\n",
    "print(\"Serwer został zatrzymany.\")\n"
   ]
  },
  {
   "cell_type": "code",
   "execution_count": null,
   "id": "ac982f17-efd5-4348-8140-c509d8c17bf6",
   "metadata": {},
   "outputs": [],
   "source": []
  }
 ],
 "metadata": {
  "kernelspec": {
   "display_name": "anaconda-2024.02-py310",
   "language": "python",
   "name": "conda-env-anaconda-2024.02-py310-py"
  },
  "language_info": {
   "codemirror_mode": {
    "name": "ipython",
    "version": 3
   },
   "file_extension": ".py",
   "mimetype": "text/x-python",
   "name": "python",
   "nbconvert_exporter": "python",
   "pygments_lexer": "ipython3",
   "version": "3.10.14"
  }
 },
 "nbformat": 4,
 "nbformat_minor": 5
}
